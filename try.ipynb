{
 "cells": [
  {
   "cell_type": "code",
   "execution_count": 2,
   "id": "e765e22f",
   "metadata": {},
   "outputs": [],
   "source": [
    "import threading\n"
   ]
  },
  {
   "cell_type": "code",
   "execution_count": 3,
   "id": "ed10c665",
   "metadata": {},
   "outputs": [
    {
     "name": "stdout",
     "output_type": "stream",
     "text": [
      "Look, I'm running in a thread!\n"
     ]
    }
   ],
   "source": [
    "def do_something():\n",
    "    print(\"Look, I'm running in a thread!\")\n",
    "\n",
    "thread = threading.Thread(target=do_something)\n",
    "thread.start()\n"
   ]
  },
  {
   "cell_type": "code",
   "execution_count": 4,
   "id": "f8c597fc",
   "metadata": {},
   "outputs": [],
   "source": [
    "thread.join()\n"
   ]
  },
  {
   "cell_type": "code",
   "execution_count": 5,
   "id": "0a2060a3",
   "metadata": {},
   "outputs": [
    {
     "name": "stdout",
     "output_type": "stream",
     "text": [
      "Final counter: 2000000\n"
     ]
    }
   ],
   "source": [
    "import threading\n",
    "\n",
    "mutex = threading.Lock()\n",
    "counter = 0\n",
    "\n",
    "def increment():\n",
    "    global counter\n",
    "    for _ in range(1000000):\n",
    "        mutex.acquire()\n",
    "        counter += 1\n",
    "        mutex.release()\n",
    "\n",
    "t1 = threading.Thread(target=increment)\n",
    "t2 = threading.Thread(target=increment)\n",
    "t1.start()\n",
    "t2.start()\n",
    "\n",
    "t1.join()\n",
    "t2.join()\n",
    "print(\"Final counter:\", counter)\n"
   ]
  },
  {
   "cell_type": "code",
   "execution_count": 6,
   "id": "cbf5a691",
   "metadata": {},
   "outputs": [
    {
     "name": "stdout",
     "output_type": "stream",
     "text": [
      "Final counter: 2000000\n"
     ]
    }
   ],
   "source": [
    "import threading\n",
    "\n",
    "rlock = threading.RLock()\n",
    "counter = 0\n",
    "\n",
    "def increment():\n",
    "    global counter\n",
    "    for _ in range(1000000):\n",
    "        rlock.acquire()\n",
    "        counter += 1\n",
    "        rlock.release()\n",
    "\n",
    "t1 = threading.Thread(target=increment)\n",
    "t2 = threading.Thread(target=increment)\n",
    "t1.start()\n",
    "t2.start()\n",
    "t1.join()\n",
    "t2.join()\n",
    "print(\"Final counter:\", counter)\n"
   ]
  },
  {
   "cell_type": "code",
   "execution_count": 7,
   "id": "0d7af517",
   "metadata": {},
   "outputs": [
    {
     "name": "stdout",
     "output_type": "stream",
     "text": [
      "Working...\n",
      "Working...\n",
      "Working...\n",
      "Event is set, stopping.\n",
      "Final counter: 3\n"
     ]
    }
   ],
   "source": [
    "import threading\n",
    "import time\n",
    "\n",
    "event = threading.Event()\n",
    "counter = 0\n",
    "\n",
    "def worker():\n",
    "    global counter\n",
    "    while not event.is_set():\n",
    "        print(\"Working...\")\n",
    "        time.sleep(1)\n",
    "        counter += 1\n",
    "    print(\"Event is set, stopping.\")\n",
    "\n",
    "t = threading.Thread(target=worker)\n",
    "t.start()\n",
    "time.sleep(3)\n",
    "event.set()\n",
    "t.join()\n",
    "print(\"Final counter:\", counter)\t\n"
   ]
  },
  {
   "cell_type": "code",
   "execution_count": 8,
   "id": "c4beeca0",
   "metadata": {},
   "outputs": [
    {
     "name": "stdout",
     "output_type": "stream",
     "text": [
      "Counter: 1\n",
      "Counter: 2\n",
      "Counter: 3\n",
      "Counter: 4\n",
      "Counter: 5\n",
      "Worker stopped.\n"
     ]
    }
   ],
   "source": [
    "import threading\n",
    "import time\n",
    "\n",
    "# 全局变量\n",
    "counter = 0\n",
    "mutex = threading.Lock()\n",
    "event = threading.Event()\n",
    "\n",
    "def worker():\n",
    "    global counter\n",
    "    while not event.is_set():\n",
    "        mutex.acquire()\n",
    "        counter += 1\n",
    "        print(f\"Counter: {counter}\")\n",
    "        mutex.release()\n",
    "        time.sleep(1)\n",
    "    print(\"Worker stopped.\")\n",
    "\n",
    "# 创建并启动线程\n",
    "t = threading.Thread(target=worker)\n",
    "t.start()\n",
    "\n",
    "# 主线程等待 5 秒后设置事件\n",
    "time.sleep(5)\n",
    "event.set()\n",
    "t.join()\n"
   ]
  },
  {
   "cell_type": "code",
   "execution_count": 1,
   "id": "4f49b94a",
   "metadata": {},
   "outputs": [
    {
     "name": "stdout",
     "output_type": "stream",
     "text": [
      "🛒 消费者C1: 没有商品，等待中...\n",
      "🛒 消费者C2: 没有商品，等待中...\n",
      "🏭 生产者P1: 生产了 商品-P1-1\n",
      "✅ 消费者C1: 消费了 商品-P1-1\n",
      "🏭 生产者P2: 生产了 商品-P2-1\n",
      "✅ 消费者C2: 消费了 商品-P2-1\n",
      "🏭 生产者P1: 生产了 商品-P1-2\n",
      "🏭 生产者P2: 生产了 商品-P2-2\n",
      "🏭 生产者P1: 生产了 商品-P1-3\n",
      "🏭 生产者P2: 生产了 商品-P2-3\n",
      "🏁 所有线程完成\n"
     ]
    }
   ],
   "source": [
    "import threading\n",
    "import time\n",
    "import random\n",
    "\n",
    "# 创建条件对象\n",
    "condition = threading.Condition()\n",
    "items = []\n",
    "MAX_ITEMS = 5\n",
    "\n",
    "def consumer(name):\n",
    "    \"\"\"消费者线程\"\"\"\n",
    "    with condition:\n",
    "        while len(items) == 0:\n",
    "            print(f\"🛒 消费者{name}: 没有商品，等待中...\")\n",
    "            condition.wait()  # 等待生产者通知\n",
    "        \n",
    "        item = items.pop(0)\n",
    "        print(f\"✅ 消费者{name}: 消费了 {item}\")\n",
    "\n",
    "def producer(name):\n",
    "    \"\"\"生产者线程\"\"\"\n",
    "    for i in range(3):\n",
    "        time.sleep(random.uniform(1, 2))  # 模拟生产时间\n",
    "        \n",
    "        with condition:\n",
    "            if len(items) < MAX_ITEMS:\n",
    "                item = f\"商品-{name}-{i+1}\"\n",
    "                items.append(item)\n",
    "                print(f\"🏭 生产者{name}: 生产了 {item}\")\n",
    "                condition.notify()  # 通知等待的消费者\n",
    "            else:\n",
    "                print(f\"📦 生产者{name}: 仓库已满，无法生产\")\n",
    "\n",
    "# 创建线程\n",
    "consumers = [threading.Thread(target=consumer, args=(f\"C{i+1}\",)) for i in range(2)]\n",
    "producers = [threading.Thread(target=producer, args=(f\"P{i+1}\",)) for i in range(2)]\n",
    "\n",
    "# 启动线程\n",
    "for t in consumers + producers:\n",
    "    t.start()\n",
    "\n",
    "# 等待所有线程完成\n",
    "for t in consumers + producers:\n",
    "    t.join()\n",
    "\n",
    "print(\"🏁 所有线程完成\")"
   ]
  },
  {
   "cell_type": "code",
   "execution_count": null,
   "id": "20ce7e5b",
   "metadata": {},
   "outputs": [
    {
     "name": "stdout",
     "output_type": "stream",
     "text": [
      "👤 消费者1: 尝试获取锁...\n",
      "🔒 消费者1: 成功获得锁\n",
      "😴 消费者1: 没商品，释放锁并等待...\n",
      "👤 消费者2: 尝试获取锁...\n",
      "🔒 消费者2: 成功获得锁\n",
      "😴 消费者2: 没商品，释放锁并等待...\n",
      "🏭 生产者1: 尝试获取锁...\n",
      "🔒 生产者1: 成功获得锁\n",
      "📦 生产者1: 生产了 商品-生产者1\n",
      "📢 生产者1: 发送通知\n",
      "🔓 生产者1: 释放锁，完成生产\n",
      "😊 消费者1: 被唤醒，重新获得锁\n",
      "✅ 消费者1: 消费了 商品-生产者1\n",
      "🔓 消费者1: 释放锁，完成消费\n"
     ]
    }
   ],
   "source": [
    "import threading\n",
    "import time\n",
    "\n",
    "condition = threading.Condition()\n",
    "items = []\n",
    "\n",
    "def detailed_flow_demo():\n",
    "    def consumer(name):\n",
    "        print(f\"👤 {name}: 尝试获取锁...\")\n",
    "        with condition:\n",
    "            print(f\"🔒 {name}: 成功获得锁\")\n",
    "            while len(items) == 0:\n",
    "                print(f\"😴 {name}: 没商品，释放锁并等待...\")\n",
    "                condition.wait()  # 释放锁，进入等待状态\n",
    "                print(f\"😊 {name}: 被唤醒，重新获得锁\")\n",
    "            \n",
    "            item = items.pop(0)\n",
    "            print(f\"✅ {name}: 消费了 {item}\")\n",
    "        print(f\"🔓 {name}: 释放锁，完成消费\")\n",
    "    \n",
    "    def producer(name):\n",
    "        time.sleep(1)  # 让消费者先开始\n",
    "        print(f\"🏭 {name}: 尝试获取锁...\")\n",
    "        with condition:\n",
    "            print(f\"🔒 {name}: 成功获得锁\")\n",
    "            item = f\"商品-{name}\"\n",
    "            items.append(item)\n",
    "            print(f\"📦 {name}: 生产了 {item}\")\n",
    "            condition.notify()\n",
    "            print(f\"📢 {name}: 发送通知\")\n",
    "        print(f\"🔓 {name}: 释放锁，完成生产\")\n",
    "    \n",
    "    # 启动多个线程\n",
    "    threads = []\n",
    "    threads.append(threading.Thread(target=consumer, args=(\"消费者1\",)))\n",
    "    threads.append(threading.Thread(target=consumer, args=(\"消费者2\",)))\n",
    "    threads.append(threading.Thread(target=producer, args=(\"生产者1\",)))\n",
    "    \n",
    "    for t in threads:\n",
    "        t.start()\n",
    "    for t in threads:\n",
    "        t.join()\n",
    "\n",
    "#detailed_flow_demo()"
   ]
  }
 ],
 "metadata": {
  "kernelspec": {
   "display_name": "base",
   "language": "python",
   "name": "python3"
  },
  "language_info": {
   "codemirror_mode": {
    "name": "ipython",
    "version": 3
   },
   "file_extension": ".py",
   "mimetype": "text/x-python",
   "name": "python",
   "nbconvert_exporter": "python",
   "pygments_lexer": "ipython3",
   "version": "3.13.5"
  }
 },
 "nbformat": 4,
 "nbformat_minor": 5
}
