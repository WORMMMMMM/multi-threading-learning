{
 "cells": [
  {
   "cell_type": "code",
   "execution_count": 1,
   "id": "e765e22f",
   "metadata": {},
   "outputs": [],
   "source": [
    "import threading\n"
   ]
  },
  {
   "cell_type": "code",
   "execution_count": 2,
   "id": "ed10c665",
   "metadata": {},
   "outputs": [
    {
     "name": "stdout",
     "output_type": "stream",
     "text": [
      "Look, I'm running in a thread!\n"
     ]
    }
   ],
   "source": [
    "def do_something():\n",
    "    print(\"Look, I'm running in a thread!\")\n",
    "\n",
    "thread = threading.Thread(target=do_something)\n",
    "thread.start()\n"
   ]
  },
  {
   "cell_type": "code",
   "execution_count": 3,
   "id": "f8c597fc",
   "metadata": {},
   "outputs": [],
   "source": [
    "thread.join()\n"
   ]
  },
  {
   "cell_type": "code",
   "execution_count": 18,
   "id": "0a2060a3",
   "metadata": {},
   "outputs": [
    {
     "name": "stdout",
     "output_type": "stream",
     "text": [
      "Final counter: 2000000\n"
     ]
    }
   ],
   "source": [
    "import threading\n",
    "\n",
    "mutex = threading.Lock()\n",
    "counter = 0\n",
    "\n",
    "def increment():\n",
    "    global counter\n",
    "    for _ in range(1000000):\n",
    "        mutex.acquire()\n",
    "        counter += 1\n",
    "        mutex.release()\n",
    "\n",
    "t1 = threading.Thread(target=increment)\n",
    "t2 = threading.Thread(target=increment)\n",
    "t1.start()\n",
    "t2.start()\n",
    "\n",
    "t1.join()\n",
    "t2.join()\n",
    "print(\"Final counter:\", counter)\n"
   ]
  },
  {
   "cell_type": "code",
   "execution_count": 19,
   "id": "cbf5a691",
   "metadata": {},
   "outputs": [
    {
     "name": "stdout",
     "output_type": "stream",
     "text": [
      "Final counter: 2000000\n"
     ]
    }
   ],
   "source": [
    "import threading\n",
    "\n",
    "rlock = threading.RLock()\n",
    "counter = 0\n",
    "\n",
    "def increment():\n",
    "    global counter\n",
    "    for _ in range(1000000):\n",
    "        rlock.acquire()\n",
    "        counter += 1\n",
    "        rlock.release()\n",
    "\n",
    "t1 = threading.Thread(target=increment)\n",
    "t2 = threading.Thread(target=increment)\n",
    "t1.start()\n",
    "t2.start()\n",
    "t1.join()\n",
    "t2.join()\n",
    "print(\"Final counter:\", counter)\n"
   ]
  },
  {
   "cell_type": "code",
   "execution_count": 21,
   "id": "0d7af517",
   "metadata": {},
   "outputs": [
    {
     "name": "stdout",
     "output_type": "stream",
     "text": [
      "Working...\n",
      "Working...\n",
      "Working...\n",
      "Working...\n",
      "Working...\n",
      "Event is set, stopping.\n",
      "Final counter: 3\n",
      "Event is set, stopping.\n",
      "Final counter: 3\n"
     ]
    }
   ],
   "source": [
    "import threading\n",
    "import time\n",
    "\n",
    "event = threading.Event()\n",
    "counter = 0\n",
    "\n",
    "def worker():\n",
    "    global counter\n",
    "    while not event.is_set():\n",
    "        print(\"Working...\")\n",
    "        time.sleep(1)\n",
    "        counter += 1\n",
    "    print(\"Event is set, stopping.\")\n",
    "\n",
    "t = threading.Thread(target=worker)\n",
    "t.start()\n",
    "time.sleep(3)\n",
    "event.set()\n",
    "t.join()\n",
    "print(\"Final counter:\", counter)\t\n"
   ]
  },
  {
   "cell_type": "code",
   "execution_count": 22,
   "id": "c4beeca0",
   "metadata": {},
   "outputs": [
    {
     "name": "stdout",
     "output_type": "stream",
     "text": [
      "Counter: 1\n",
      "Counter: 2\n",
      "Counter: 2\n",
      "Counter: 3\n",
      "Counter: 3\n",
      "Counter: 4\n",
      "Counter: 4\n",
      "Counter: 5\n",
      "Counter: 5\n",
      "Worker stopped.\n",
      "Worker stopped.\n"
     ]
    }
   ],
   "source": [
    "import threading\n",
    "import time\n",
    "\n",
    "# 全局变量\n",
    "counter = 0\n",
    "mutex = threading.Lock()\n",
    "event = threading.Event()\n",
    "\n",
    "def worker():\n",
    "    global counter\n",
    "    while not event.is_set():\n",
    "        mutex.acquire()\n",
    "        counter += 1\n",
    "        print(f\"Counter: {counter}\")\n",
    "        mutex.release()\n",
    "        time.sleep(1)\n",
    "    print(\"Worker stopped.\")\n",
    "\n",
    "# 创建并启动线程\n",
    "t = threading.Thread(target=worker)\n",
    "t.start()\n",
    "\n",
    "# 主线程等待 5 秒后设置事件\n",
    "time.sleep(5)\n",
    "event.set()\n",
    "t.join()\n"
   ]
  }
 ],
 "metadata": {
  "kernelspec": {
   "display_name": "base",
   "language": "python",
   "name": "python3"
  },
  "language_info": {
   "codemirror_mode": {
    "name": "ipython",
    "version": 3
   },
   "file_extension": ".py",
   "mimetype": "text/x-python",
   "name": "python",
   "nbconvert_exporter": "python",
   "pygments_lexer": "ipython3",
   "version": "3.13.5"
  }
 },
 "nbformat": 4,
 "nbformat_minor": 5
}
